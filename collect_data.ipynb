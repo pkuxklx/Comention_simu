{
 "cells": [
  {
   "cell_type": "code",
   "execution_count": 23,
   "metadata": {},
   "outputs": [],
   "source": [
    "import pandas as pd\n",
    "import numpy as np\n",
    "from my_api import *\n",
    "import matplotlib.pyplot as plt"
   ]
  },
  {
   "cell_type": "code",
   "execution_count": 24,
   "metadata": {},
   "outputs": [],
   "source": [
    "id = pd.MultiIndex.from_product([['fro', 2], [100, 300, 500]])\n",
    "df = pd.DataFrame(index = id)"
   ]
  },
  {
   "cell_type": "code",
   "execution_count": 30,
   "metadata": {},
   "outputs": [],
   "source": [
    "T = 300\n",
    "rela = bool(0)\n",
    "cov_str = 'Cai2011Adaptive_Model2_my'\n",
    "# cov_str = 'Cai2011Adaptive_Model1'"
   ]
  },
  {
   "cell_type": "code",
   "execution_count": 27,
   "metadata": {},
   "outputs": [],
   "source": [
    "simu_str = 'lx_band'\n",
    "data_path = 'data_2023-4-1/'\n",
    "for N in [100, 300, 500]:\n",
    "    S = gen_S_Cai2011Adaptive_Model1(N)\n",
    "    \n",
    "    for ord in ['fro', 2]:\n",
    "        normS = np.linalg.norm(S, ord)\n",
    "        \n",
    "        for eta in [0.5, 0.8, 1]:\n",
    "            cov_params = [cov_str]\n",
    "            simu_params = [simu_str, eta]\n",
    "            file_name = f\"{ord},S,{N},{T},{cov_params},{simu_params}.txt\"\n",
    "            file_name = data_path + file_name\n",
    "            data = np.loadtxt(file_name)\n",
    "\n",
    "            col = str(simu_params)\n",
    "            if col not in df.columns:\n",
    "                df[col] = None\n",
    "            if not rela:\n",
    "                data *= normS # absolute error\n",
    "            df[col][ord, N] = f\"{data.mean() :.2f}({data.std() :.2f})\""
   ]
  },
  {
   "cell_type": "code",
   "execution_count": 28,
   "metadata": {},
   "outputs": [],
   "source": [
    "simu_str = 'LSRthreshold'\n",
    "data_path = 'data_LSRthreshold_2023-4-6/'\n",
    "for N in [100, 300, 500]:\n",
    "    S = gen_S_Cai2011Adaptive_Model1(N)\n",
    "    \n",
    "    for ord in ['fro', 2]:\n",
    "        normS = np.linalg.norm(S, ord)\n",
    "        \n",
    "        for tau in [0.2]:\n",
    "            # for prob in [0.99, 0.9, 1]:\n",
    "            #     for qrob in [0, 0.01, 0.1]:\n",
    "            for prob in [1, 0.99]:\n",
    "                for qrob in [0, 0.01]:\n",
    "                    cov_params = [cov_str]\n",
    "                    simu_params = [simu_str, tau, prob, qrob, 'brute']\n",
    "                    file_name = f\"{ord},S,{N},{T},{cov_params},{simu_params}.txt\"\n",
    "                    file_name = data_path + file_name\n",
    "                    \n",
    "                    try:\n",
    "                        data = np.loadtxt(file_name)\n",
    "                    except FileNotFoundError:\n",
    "                        continue\n",
    "\n",
    "                    col = str(simu_params)\n",
    "                    if col not in df.columns:\n",
    "                        df[col] = None\n",
    "                    if not rela:\n",
    "                        data *= normS # absolute error\n",
    "                    df[col][ord, N] = f\"{data.mean() :.2f}({data.std() :.2f})\""
   ]
  },
  {
   "cell_type": "code",
   "execution_count": 17,
   "metadata": {},
   "outputs": [],
   "source": [
    "simu_str = '' # to be determined\n",
    "data_path = 'data_OtherMethods_4-5/'\n",
    "\n",
    "for N in [100, 300, 500]:\n",
    "    S = gen_S_Cai2011Adaptive_Model1(N)\n",
    "    \n",
    "    for ord in ['fro', 2]:\n",
    "        normS = np.linalg.norm(S, ord)\n",
    "\n",
    "        # from Cai2011_other import Other_Methods\n",
    "        for simu_str in ['Sample', 'Soft Threshold', 'Hard Threshold', 'Linear Shrink', 'Nonlinear Shrink']:\n",
    "            cov_params = [cov_str]\n",
    "            simu_params = [simu_str]\n",
    "            file_name = f\"{ord},S,{N},{T},{cov_params},{simu_params}.txt\"\n",
    "            file_name = data_path + file_name\n",
    "            try:\n",
    "                data = np.loadtxt(file_name)\n",
    "            except FileNotFoundError:\n",
    "                continue\n",
    "\n",
    "            col = str(*simu_params)\n",
    "            if col not in df.columns:\n",
    "                df[col] = None\n",
    "            \n",
    "            if not rela:\n",
    "                data *= normS # absolute error\n",
    "            df[col][ord, N] = f\"{data.mean() :.2f}({data.std() :.2f})\""
   ]
  },
  {
   "cell_type": "code",
   "execution_count": 29,
   "metadata": {},
   "outputs": [
    {
     "data": {
      "text/html": [
       "<div>\n",
       "<style scoped>\n",
       "    .dataframe tbody tr th:only-of-type {\n",
       "        vertical-align: middle;\n",
       "    }\n",
       "\n",
       "    .dataframe tbody tr th {\n",
       "        vertical-align: top;\n",
       "    }\n",
       "\n",
       "    .dataframe thead th {\n",
       "        text-align: right;\n",
       "    }\n",
       "</style>\n",
       "<table border=\"1\" class=\"dataframe\">\n",
       "  <thead>\n",
       "    <tr style=\"text-align: right;\">\n",
       "      <th></th>\n",
       "      <th></th>\n",
       "      <th>['lx_band', 0.5]</th>\n",
       "      <th>['lx_band', 0.8]</th>\n",
       "      <th>['lx_band', 1]</th>\n",
       "      <th>['LSRthreshold', 0.2, 1, 0, 'brute']</th>\n",
       "      <th>['LSRthreshold', 0.2, 0.99, 0.01, 'brute']</th>\n",
       "    </tr>\n",
       "  </thead>\n",
       "  <tbody>\n",
       "    <tr>\n",
       "      <th rowspan=\"3\" valign=\"top\">fro</th>\n",
       "      <th>100</th>\n",
       "      <td>0.21(0.01)</td>\n",
       "      <td>0.13(0.01)</td>\n",
       "      <td>0.12(0.01)</td>\n",
       "      <td>0.35(0.02)</td>\n",
       "      <td>0.35(0.02)</td>\n",
       "    </tr>\n",
       "    <tr>\n",
       "      <th>300</th>\n",
       "      <td>0.25(0.00)</td>\n",
       "      <td>0.18(0.00)</td>\n",
       "      <td>0.17(0.00)</td>\n",
       "      <td>0.61(0.03)</td>\n",
       "      <td>0.61(0.03)</td>\n",
       "    </tr>\n",
       "    <tr>\n",
       "      <th>500</th>\n",
       "      <td>0.28(0.00)</td>\n",
       "      <td>0.21(0.00)</td>\n",
       "      <td>0.20(0.00)</td>\n",
       "      <td>0.79(0.03)</td>\n",
       "      <td>0.79(0.04)</td>\n",
       "    </tr>\n",
       "    <tr>\n",
       "      <th rowspan=\"3\" valign=\"top\">2</th>\n",
       "      <th>100</th>\n",
       "      <td>0.41(0.02)</td>\n",
       "      <td>0.24(0.02)</td>\n",
       "      <td>0.21(0.02)</td>\n",
       "      <td>0.51(0.04)</td>\n",
       "      <td>0.52(0.04)</td>\n",
       "    </tr>\n",
       "    <tr>\n",
       "      <th>300</th>\n",
       "      <td>0.32(0.01)</td>\n",
       "      <td>0.25(0.01)</td>\n",
       "      <td>0.25(0.01)</td>\n",
       "      <td>0.73(0.05)</td>\n",
       "      <td>0.72(0.05)</td>\n",
       "    </tr>\n",
       "    <tr>\n",
       "      <th>500</th>\n",
       "      <td>0.31(0.01)</td>\n",
       "      <td>0.23(0.01)</td>\n",
       "      <td>0.23(0.01)</td>\n",
       "      <td>0.87(0.05)</td>\n",
       "      <td>0.87(0.05)</td>\n",
       "    </tr>\n",
       "  </tbody>\n",
       "</table>\n",
       "</div>"
      ],
      "text/plain": [
       "        ['lx_band', 0.5] ['lx_band', 0.8] ['lx_band', 1]  \\\n",
       "fro 100       0.21(0.01)       0.13(0.01)     0.12(0.01)   \n",
       "    300       0.25(0.00)       0.18(0.00)     0.17(0.00)   \n",
       "    500       0.28(0.00)       0.21(0.00)     0.20(0.00)   \n",
       "2   100       0.41(0.02)       0.24(0.02)     0.21(0.02)   \n",
       "    300       0.32(0.01)       0.25(0.01)     0.25(0.01)   \n",
       "    500       0.31(0.01)       0.23(0.01)     0.23(0.01)   \n",
       "\n",
       "        ['LSRthreshold', 0.2, 1, 0, 'brute']  \\\n",
       "fro 100                           0.35(0.02)   \n",
       "    300                           0.61(0.03)   \n",
       "    500                           0.79(0.03)   \n",
       "2   100                           0.51(0.04)   \n",
       "    300                           0.73(0.05)   \n",
       "    500                           0.87(0.05)   \n",
       "\n",
       "        ['LSRthreshold', 0.2, 0.99, 0.01, 'brute']  \n",
       "fro 100                                 0.35(0.02)  \n",
       "    300                                 0.61(0.03)  \n",
       "    500                                 0.79(0.04)  \n",
       "2   100                                 0.52(0.04)  \n",
       "    300                                 0.72(0.05)  \n",
       "    500                                 0.87(0.05)  "
      ]
     },
     "execution_count": 29,
     "metadata": {},
     "output_type": "execute_result"
    }
   ],
   "source": [
    "df"
   ]
  },
  {
   "cell_type": "code",
   "execution_count": 19,
   "metadata": {},
   "outputs": [],
   "source": [
    "new_cols = []\n",
    "for col in df.columns:\n",
    "    try:\n",
    "        col = eval(col)\n",
    "    except Exception:\n",
    "        pass\n",
    "\n",
    "    if type(col) == str:\n",
    "        new_col = col\n",
    "    elif 'lx_band' in col:\n",
    "        eta = col[1]\n",
    "        new_col = fr'Augmented Band ($\\eta={eta}$)'\n",
    "    elif 'LSRthreshold' in col:\n",
    "        t, p, q = col[1:-1]\n",
    "        new_col = fr'Augmented Threshold ($\\tau={t}, p={p}, q={q}$)' # The r in fr, means raw string. Otherwise I should write \\\\tau instead of \\tau.\n",
    "    new_cols.append(new_col)\n",
    "df.columns = new_cols"
   ]
  },
  {
   "cell_type": "code",
   "execution_count": 20,
   "metadata": {},
   "outputs": [
    {
     "name": "stderr",
     "output_type": "stream",
     "text": [
      "C:\\Users\\lx\\AppData\\Local\\Temp\\ipykernel_25232\\4238430270.py:5: FutureWarning: In future versions `DataFrame.to_latex` is expected to utilise the base implementation of `Styler.to_latex` for formatting and rendering. The arguments signature may therefore change. It is recommended instead to use `DataFrame.style.to_latex` which also contains additional functionality.\n",
      "  df.to_latex(buf = buf,\n"
     ]
    }
   ],
   "source": [
    "buf = 'latex/' + cov_str + '.tex'\n",
    "caption = cov_str\n",
    "\n",
    "with pd.option_context(\"max_colwidth\", 1000, 'display.width', 50):\n",
    "    df.to_latex(buf = buf, \n",
    "                index = True, na_rep = ' ', sparsify = True, \n",
    "             column_format = 'll|' + 'p{2cm}' * df.shape[1], \n",
    "             longtable = False, \n",
    "             escape = False, encoding = 'utf-8', \n",
    "             caption = caption, label = \"my label\", \n",
    "             position = 'htbp')\n",
    "# escape参数，防止字符被转换使得我设的数学模式被破坏"
   ]
  },
  {
   "cell_type": "code",
   "execution_count": 21,
   "metadata": {},
   "outputs": [
    {
     "data": {
      "text/plain": [
       "80"
      ]
     },
     "execution_count": 21,
     "metadata": {},
     "output_type": "execute_result"
    }
   ],
   "source": [
    "pd.get_option('display.width')"
   ]
  },
  {
   "cell_type": "code",
   "execution_count": 22,
   "metadata": {},
   "outputs": [],
   "source": [
    "lines = []\n",
    "\n",
    "with open(buf, 'r') as fp:\n",
    "    lines = fp.readlines()\n",
    "\n",
    "s1 = r'\\resizebox{\\linewidth}{!}{' + '\\n'\n",
    "s2 = r'}' + '\\n'\n",
    "lines.insert(4, s1)\n",
    "lines.insert(-1, s2)\n",
    "\n",
    "with open(buf[:-4] + '_processed' + '.tex', 'w') as fp:\n",
    "    fp.writelines(lines)\n",
    "        # if not write_flag:\n",
    "        #     if r'begin{tabular}' in line:\n"
   ]
  },
  {
   "cell_type": "code",
   "execution_count": null,
   "metadata": {},
   "outputs": [],
   "source": []
  },
  {
   "cell_type": "code",
   "execution_count": null,
   "metadata": {},
   "outputs": [],
   "source": []
  }
 ],
 "metadata": {
  "kernelspec": {
   "display_name": "simu",
   "language": "python",
   "name": "python3"
  },
  "language_info": {
   "codemirror_mode": {
    "name": "ipython",
    "version": 3
   },
   "file_extension": ".py",
   "mimetype": "text/x-python",
   "name": "python",
   "nbconvert_exporter": "python",
   "pygments_lexer": "ipython3",
   "version": "3.9.13"
  },
  "orig_nbformat": 4
 },
 "nbformat": 4,
 "nbformat_minor": 2
}
