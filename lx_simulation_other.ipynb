{
 "cells": [
  {
   "cell_type": "code",
   "execution_count": 1,
   "metadata": {},
   "outputs": [],
   "source": [
    "import numpy as np\n",
    "from sklearn.datasets import make_sparse_spd_matrix\n",
    "from scipy import linalg as LA\n",
    "import pandas as pd\n",
    "import time, os\n",
    "import matplotlib.pyplot as plt\n",
    "\n",
    "from pyinstrument import Profiler\n",
    "\n",
    "from infoband.band_info import InfoCorrBand\n",
    "from wlpy.covariance import Covariance\n",
    "from utils.adpt_correlation_threshold import AdptCorrThreshold\n",
    "from wlpy.gist import heatmap\n",
    "\n",
    "import warnings\n",
    "warnings.filterwarnings(\"ignore\")\n",
    "\n",
    "from my_api import *"
   ]
  },
  {
   "attachments": {},
   "cell_type": "markdown",
   "metadata": {},
   "source": [
    "# other estimator"
   ]
  },
  {
   "cell_type": "code",
   "execution_count": 2,
   "metadata": {},
   "outputs": [],
   "source": [
    "N_range = [100, 300, 500]\n",
    "T_range = [100, 300, 500]\n",
    "rho_range = [0.5, 0.8, 0.95, 0.99]"
   ]
  },
  {
   "cell_type": "code",
   "execution_count": 3,
   "metadata": {},
   "outputs": [],
   "source": [
    "df = pd.DataFrame(columns = ['N', 'T', 'rho', 'ord', 'type', 'Sample', 'Soft Threshold', 'Hard Threshold', 'Linear Shrink', 'Nonlinear Shrink'])\n",
    "method_cols = df.columns[5:]"
   ]
  },
  {
   "cell_type": "code",
   "execution_count": 5,
   "metadata": {},
   "outputs": [],
   "source": [
    "for N in N_range:\n",
    "    for T in T_range:\n",
    "        for rho in rho_range:\n",
    "            for ord in ['fro', 2]:\n",
    "                # data and true matrix\n",
    "                S = gen_S_AR1(rho, N)\n",
    "                R = cov2cor(S)\n",
    "                \n",
    "                # error rate\n",
    "                rowR = {'N': N, 'T': T, 'rho': rho, 'ord': ord, 'type': 'R'}\n",
    "                rowS = {'N': N, 'T': T, 'rho': rho, 'ord': ord, 'type': 'S'}\n",
    "                for col in method_cols:\n",
    "                    rowR[col] = []\n",
    "                    rowS[col] = []\n",
    "                    \n",
    "                for i in range(100):\n",
    "                    X = np.random.RandomState(seed = i).multivariate_normal(mean = np.zeros(N), cov = S, size = T)\n",
    "                \n",
    "                    # estimation object\n",
    "                    G_zero = np.ones((N, N)) - np.eye(N)\n",
    "                    m = AdptCorrThreshold(pd.DataFrame(X), G_zero)\n",
    "                \n",
    "                    # other estimator\n",
    "                    R_ths, S_ths, _ = m.auto_fit(threshold_method = 'soft threshold')\n",
    "                    R_thh, S_thh, _ = m.auto_fit(threshold_method = 'hard threshold')\n",
    "                    S_lin, S_sample = m.lw_lin_shrink(), m.sample_cov()\n",
    "                    R_lin, R_sample = cov2cor(S_lin), cov2cor(S_sample)\n",
    "                    if T > N: # nonlinear shrinkage is applicable when N / T \\in (0, 1)\n",
    "                        S_nlin = m.nonlin_shrink()\n",
    "                        R_nlin = cov2cor(S_nlin)\n",
    "                \n",
    "                    # correlation\n",
    "                    deno = LA.norm(R, ord)\n",
    "                    rowR['Sample'].append(LA.norm(R_sample - R, ord) / deno)\n",
    "                    rowR['Soft Threshold'].append(LA.norm(R_ths - R, ord) / deno)\n",
    "                    rowR['Hard Threshold'].append(LA.norm(R_thh - R, ord) / deno)\n",
    "                    rowR['Linear Shrink'].append(LA.norm(R_lin - R, ord) / deno)\n",
    "                    if T > N:\n",
    "                        rowR['Nonlinear Shrink'].append(LA.norm(R_nlin - R, ord) / deno)\n",
    "                \n",
    "                    # covariance\n",
    "                    deno = LA.norm(S, ord)\n",
    "                    rowS['Sample'].append(LA.norm(S_sample - S, ord) / deno)\n",
    "                    rowS['Soft Threshold'].append(LA.norm(S_ths - S, ord) / deno)\n",
    "                    rowS['Hard Threshold'].append(LA.norm(S_thh - S, ord) / deno)\n",
    "                    rowS['Linear Shrink'].append(LA.norm(S_lin - S, ord) / deno)\n",
    "                    if T > N:\n",
    "                        rowS['Nonlinear Shrink'].append(LA.norm(S_nlin - S, ord) / deno)\n",
    "                        \n",
    "                # average error rate\n",
    "                for col in method_cols:\n",
    "                    rowR[col] = np.array(rowR[col]).mean()\n",
    "                    rowS[col] = np.array(rowS[col]).mean()\n",
    "                \n",
    "                # insert new row\n",
    "                df = df.append(rowR, ignore_index = True)\n",
    "                df = df.append(rowS, ignore_index = True)\n",
    "                print(df.iloc[-2], df.iloc[-1], sep = '\\n')"
   ]
  },
  {
   "cell_type": "code",
   "execution_count": null,
   "metadata": {},
   "outputs": [],
   "source": [
    "df.to_csv('other_methods.csv')"
   ]
  },
  {
   "attachments": {},
   "cell_type": "markdown",
   "metadata": {},
   "source": [
    "# First Attempt \n",
    "just ignore it."
   ]
  },
  {
   "cell_type": "code",
   "execution_count": null,
   "metadata": {},
   "outputs": [],
   "source": [
    "# profiler = Profiler()\n",
    "# profiler.start()\n",
    "\n",
    "N = 100\n",
    "T = 300\n",
    "rho = 0.95\n",
    "S = gen_S_AR1(N = N, rho = rho)\n",
    "R = cov2cor(S)\n",
    "\n",
    "seed = 1\n",
    "rng = np.random.RandomState(seed) if 1 else np.random\n",
    "X = rng.multivariate_normal(mean = np.zeros(N), cov = S, size = T)\n",
    "\n",
    "# profiler.stop()\n",
    "# profiler.print()"
   ]
  },
  {
   "cell_type": "code",
   "execution_count": null,
   "metadata": {},
   "outputs": [],
   "source": [
    "G_zero = np.ones((N, N)) - np.eye(N)\n",
    "m = AdptCorrThreshold(pd.DataFrame(X), G_zero)"
   ]
  },
  {
   "cell_type": "code",
   "execution_count": null,
   "metadata": {},
   "outputs": [
    {
     "data": {
      "image/png": "[encoded data removed]",
      "text/plain": [
       "<Figure size 640x480 with 1 Axes>"
      ]
     },
     "metadata": {},
     "output_type": "display_data"
    }
   ],
   "source": [
    "plt.plot(np.linalg.eigvals(S)[::-1], color = 'blue');\n",
    "plt.plot(np.sort(np.linalg.eigvals(m.sample_cov())), color = 'red');\n",
    "plt.plot(np.sort(np.linalg.eigvals(m.nonlin_shrink())), color = 'green');\n",
    "# plt.plot(np.sort(np.linalg.eigvals(m.lw_lin_shrink())), color = 'purple');"
   ]
  },
  {
   "cell_type": "code",
   "execution_count": null,
   "metadata": {},
   "outputs": [],
   "source": [
    "def show_rs(S: np.ndarray, \n",
    "            m: AdptCorrThreshold, \n",
    "            ord = 'fro'):\n",
    "    # ord: norm type\n",
    "    R_ths, S_ths, params = m.auto_fit(threshold_method = 'soft threshold')\n",
    "    print(params)\n",
    "    R_thh, S_thh, params = m.auto_fit(threshold_method = 'hard threshold')\n",
    "    print(params)\n",
    "    R = cov2cor(S)\n",
    "    \n",
    "    print(ord)\n",
    "    print('----------'*2)\n",
    "    \n",
    "    x = LA.norm(R, ord)\n",
    "    print('Correlation itself', x)\n",
    "    print('Error:')\n",
    "    print('Sample', LA.norm(cov2cor(m.sample_cov()) - R, ord) / x)\n",
    "    print('Linear Shrinkage', LA.norm(cov2cor(m.lw_lin_shrink()) - R, ord) / x)\n",
    "    print('Nonlinear Shrinkage', LA.norm(cov2cor(m.nonlin_shrink()) - R, ord) / x)\n",
    "    print('Soft Threshold', LA.norm(R_ths - R, ord) / x)\n",
    "    print('Hard Threshold', LA.norm(R_thh - R, ord) / x)\n",
    "    for eta in [0.5, 0.8, 0.95, 1]:\n",
    "        try:\n",
    "            mean_err = np.loadtxt('data_done/' + get_title_1(ord, 'cor', 'random', eta, N, T, rho) + '.txt').mean()\n",
    "            print('Info Band, eta={}'.format(eta), mean_err)\n",
    "        except Exception:\n",
    "            pass\n",
    "        \n",
    "    print()\n",
    "    \n",
    "    x = LA.norm(S, ord)\n",
    "    print('Covariance itself', x)\n",
    "    print('Error:')\n",
    "    print('Sample', LA.norm(m.sample_cov() - S, ord) / x)\n",
    "    print('Linear Shrinkage', LA.norm(m.lw_lin_shrink() - S, ord) / x)\n",
    "    print('Nonlinear Shrinkage', LA.norm(m.nonlin_shrink() - S, ord) / x)\n",
    "    print('Soft Threshold', LA.norm(S_ths - S, ord) / x)\n",
    "    print('Hard Threshold', LA.norm(S_thh - S, ord) / x)\n",
    "    for eta in [0.5, 0.8, 0.95, 1]:\n",
    "        try:\n",
    "            mean_err = np.loadtxt('data_done/' + get_title_1(ord, 'cov', 'random', eta, N, T, rho) + '.txt').mean()\n",
    "            print('Info Band, eta={}'.format(eta), mean_err)\n",
    "        except Exception:\n",
    "            pass\n",
    "    \n",
    "    print('----------'*2)\n",
    "    return"
   ]
  },
  {
   "cell_type": "code",
   "execution_count": null,
   "metadata": {},
   "outputs": [
    {
     "name": "stdout",
     "output_type": "stream",
     "text": [
      "[ 6.43220455e-01 -6.03734560e-04]\n",
      "[ 6.71717172e+00 -1.55865402e-12]\n",
      "fro\n",
      "--------------------\n",
      "Correlation itself 97.80866615094732\n",
      "Error:\n",
      "Sample 0.30145095089923946\n",
      "Linear Shrinkage 0.2839944980445308\n",
      "Nonlinear Shrinkage 0.2732307754636863\n",
      "Soft Threshold 0.21751200955816563\n",
      "Hard Threshold 0.9735165500676309\n",
      "\n",
      "Covariance itself 97.80866615094732\n",
      "Error:\n",
      "Sample 0.3147680811469419\n",
      "Linear Shrinkage 0.2971016162330117\n",
      "Nonlinear Shrinkage 0.28522658188781924\n",
      "Soft Threshold 0.2366022311315699\n",
      "Hard Threshold 0.9737125716827223\n",
      "--------------------\n",
      "[ 2.41818635e-08 -1.97730196e-12]\n",
      "[ 0.25467745 -0.2535231 ]\n",
      "2\n",
      "--------------------\n",
      "Correlation itself 38.50264813100928\n",
      "Error:\n",
      "Sample 0.4033757099900365\n",
      "Linear Shrinkage 0.3067950387124192\n",
      "Nonlinear Shrinkage 0.26779469092129193\n",
      "Soft Threshold 0.9740277604647505\n",
      "Hard Threshold 0.9740277604647505\n",
      "\n",
      "Covariance itself 38.50264813100928\n",
      "Error:\n",
      "Sample 0.43164797923813863\n",
      "Linear Shrinkage 0.3292782219862578\n",
      "Nonlinear Shrinkage 0.2930379819326254\n",
      "Soft Threshold 0.9745994537081066\n",
      "Hard Threshold 0.9745994537081066\n",
      "--------------------\n"
     ]
    }
   ],
   "source": [
    "print(N, T, rho)\n",
    "show_rs(S, m, 'fro')\n",
    "show_rs(S, m, 2)\n",
    "show_rs(S, m, 1)"
   ]
  }
 ],
 "metadata": {
  "kernelspec": {
   "display_name": "base",
   "language": "python",
   "name": "python3"
  },
  "language_info": {
   "codemirror_mode": {
    "name": "ipython",
    "version": 3
   },
   "file_extension": ".py",
   "mimetype": "text/x-python",
   "name": "python",
   "nbconvert_exporter": "python",
   "pygments_lexer": "ipython3",
   "version": "3.9.12 (main, Apr  4 2022, 05:22:27) [MSC v.1916 64 bit (AMD64)]"
  },
  "vscode": {
   "interpreter": {
    "hash": "49cb93f377a7abe7414b7b0f21fb3017538004a126cf690fb524202736b7fb92"
   }
  }
 },
 "nbformat": 4,
 "nbformat_minor": 2
}
