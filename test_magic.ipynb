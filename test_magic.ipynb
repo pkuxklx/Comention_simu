{
 "cells": [
  {
   "cell_type": "code",
   "execution_count": 6,
   "metadata": {},
   "outputs": [
    {
     "name": "stderr",
     "output_type": "stream",
     "text": [
      "'pwd' �����ڲ����ⲿ���Ҳ���ǿ����еĳ���\n",
      "���������ļ���\n"
     ]
    }
   ],
   "source": [
    "!pwd -P"
   ]
  },
  {
   "cell_type": "code",
   "execution_count": 5,
   "metadata": {},
   "outputs": [
    {
     "data": {
      "text/plain": [
       "'UTF-8'"
      ]
     },
     "execution_count": 5,
     "metadata": {},
     "output_type": "execute_result"
    }
   ],
   "source": [
    "import sys\n",
    "sys.stdout.encoding"
   ]
  },
  {
   "cell_type": "code",
   "execution_count": 8,
   "metadata": {},
   "outputs": [
    {
     "name": "stderr",
     "output_type": "stream",
     "text": [
      "'D' �����ڲ����ⲿ���Ҳ���ǿ����еĳ���\n",
      "���������ļ���\n"
     ]
    }
   ],
   "source": [
    "!D"
   ]
  },
  {
   "cell_type": "code",
   "execution_count": 5,
   "metadata": {},
   "outputs": [
    {
     "data": {
      "text/plain": [
       "'d:\\\\BaiduSyncdisk\\\\Project\\\\Co_simu_3'"
      ]
     },
     "execution_count": 5,
     "metadata": {},
     "output_type": "execute_result"
    }
   ],
   "source": [
    "import os\n",
    "os.getcwd()"
   ]
  },
  {
   "cell_type": "code",
   "execution_count": 4,
   "metadata": {},
   "outputs": [],
   "source": [
    "!C:"
   ]
  },
  {
   "cell_type": "code",
   "execution_count": 7,
   "metadata": {},
   "outputs": [
    {
     "name": "stdout",
     "output_type": "stream",
     "text": [
      "[WinError 2] 系统找不到指定的文件。: 'data'\n",
      "d:\\BaiduSyncdisk\\Project\\Co_simu_3\\data\n",
      "d:\\BaiduSyncdisk\\Project\\Co_simu_3\n",
      "d:\\BaiduSyncdisk\\Project\n"
     ]
    }
   ],
   "source": [
    "%cd data\n",
    "%cd ..\n",
    "%cd .."
   ]
  },
  {
   "cell_type": "code",
   "execution_count": 12,
   "metadata": {},
   "outputs": [],
   "source": [
    "from utils.simulation import func_G\n",
    "import numpy as np\n",
    "\n",
    "# func_G(np.random)"
   ]
  },
  {
   "cell_type": "code",
   "execution_count": 28,
   "metadata": {},
   "outputs": [
    {
     "name": "stdout",
     "output_type": "stream",
     "text": [
      "\u001b[1;31mDocstring:\u001b[0m\n",
      "binomial(n, p, size=None)\n",
      "\n",
      "Draw samples from a binomial distribution.\n",
      "\n",
      "Samples are drawn from a binomial distribution with specified\n",
      "parameters, n trials and p probability of success where\n",
      "n an integer >= 0 and p is in the interval [0,1]. (n may be\n",
      "input as a float, but it is truncated to an integer in use)\n",
      "\n",
      "Parameters\n",
      "----------\n",
      "n : int or array_like of ints\n",
      "    Parameter of the distribution, >= 0. Floats are also accepted,\n",
      "    but they will be truncated to integers.\n",
      "p : float or array_like of floats\n",
      "    Parameter of the distribution, >= 0 and <=1.\n",
      "size : int or tuple of ints, optional\n",
      "    Output shape.  If the given shape is, e.g., ``(m, n, k)``, then\n",
      "    ``m * n * k`` samples are drawn.  If size is ``None`` (default),\n",
      "    a single value is returned if ``n`` and ``p`` are both scalars.\n",
      "    Otherwise, ``np.broadcast(n, p).size`` samples are drawn.\n",
      "\n",
      "Returns\n",
      "-------\n",
      "out : ndarray or scalar\n",
      "    Drawn samples from the parameterized binomial distribution, where\n",
      "    each sample is equal to the number of successes over the n trials.\n",
      "\n",
      "See Also\n",
      "--------\n",
      "scipy.stats.binom : probability density function, distribution or\n",
      "    cumulative density function, etc.\n",
      "\n",
      "Notes\n",
      "-----\n",
      "The probability density for the binomial distribution is\n",
      "\n",
      ".. math:: P(N) = \\binom{n}{N}p^N(1-p)^{n-N},\n",
      "\n",
      "where :math:`n` is the number of trials, :math:`p` is the probability\n",
      "of success, and :math:`N` is the number of successes.\n",
      "\n",
      "When estimating the standard error of a proportion in a population by\n",
      "using a random sample, the normal distribution works well unless the\n",
      "product p*n <=5, where p = population proportion estimate, and n =\n",
      "number of samples, in which case the binomial distribution is used\n",
      "instead. For example, a sample of 15 people shows 4 who are left\n",
      "handed, and 11 who are right handed. Then p = 4/15 = 27%. 0.27*15 = 4,\n",
      "so the binomial distribution should be used in this case.\n",
      "\n",
      "References\n",
      "----------\n",
      ".. [1] Dalgaard, Peter, \"Introductory Statistics with R\",\n",
      "       Springer-Verlag, 2002.\n",
      ".. [2] Glantz, Stanton A. \"Primer of Biostatistics.\", McGraw-Hill,\n",
      "       Fifth Edition, 2002.\n",
      ".. [3] Lentner, Marvin, \"Elementary Applied Statistics\", Bogden\n",
      "       and Quigley, 1972.\n",
      ".. [4] Weisstein, Eric W. \"Binomial Distribution.\" From MathWorld--A\n",
      "       Wolfram Web Resource.\n",
      "       http://mathworld.wolfram.com/BinomialDistribution.html\n",
      ".. [5] Wikipedia, \"Binomial distribution\",\n",
      "       https://en.wikipedia.org/wiki/Binomial_distribution\n",
      "\n",
      "Examples\n",
      "--------\n",
      "Draw samples from the distribution:\n",
      "\n",
      ">>> rng = np.random.default_rng()\n",
      ">>> n, p = 10, .5  # number of trials, probability of each trial\n",
      ">>> s = rng.binomial(n, p, 1000)\n",
      "# result of flipping a coin 10 times, tested 1000 times.\n",
      "\n",
      "A real world example. A company drills 9 wild-cat oil exploration\n",
      "wells, each with an estimated probability of success of 0.1. All nine\n",
      "wells fail. What is the probability of that happening?\n",
      "\n",
      "Let's do 20,000 trials of the model, and count the number that\n",
      "generate zero positive results.\n",
      "\n",
      ">>> sum(rng.binomial(9, 0.1, 20000) == 0)/20000.\n",
      "# answer = 0.38885, or 39%.\n",
      "\u001b[1;31mType:\u001b[0m      builtin_function_or_method\n"
     ]
    }
   ],
   "source": [
    "rng = np.random.default_rng(None)\n",
    "rng.binomial?"
   ]
  },
  {
   "cell_type": "code",
   "execution_count": 15,
   "metadata": {},
   "outputs": [
    {
     "data": {
      "text/plain": [
       "array([[-0.08810221, -1.68875455,  1.34243676],\n",
       "       [-0.92034656,  0.25433994,  1.24621429]])"
      ]
     },
     "execution_count": 15,
     "metadata": {},
     "output_type": "execute_result"
    }
   ],
   "source": [
    "np.random.randn(2,3)"
   ]
  },
  {
   "cell_type": "code",
   "execution_count": null,
   "metadata": {},
   "outputs": [],
   "source": []
  }
 ],
 "metadata": {
  "kernelspec": {
   "display_name": "simu",
   "language": "python",
   "name": "python3"
  },
  "language_info": {
   "codemirror_mode": {
    "name": "ipython",
    "version": 3
   },
   "file_extension": ".py",
   "mimetype": "text/x-python",
   "name": "python",
   "nbconvert_exporter": "python",
   "pygments_lexer": "ipython3",
   "version": "3.9.13"
  },
  "orig_nbformat": 4,
  "vscode": {
   "interpreter": {
    "hash": "b1f8481d56ce14143e6478182e374bc2468eaf037e4af344af9b6ae85cf11f37"
   }
  }
 },
 "nbformat": 4,
 "nbformat_minor": 2
}
